{
 "cells": [
  {
   "cell_type": "code",
   "execution_count": 17,
   "id": "9c3aaf11",
   "metadata": {},
   "outputs": [],
   "source": [
    "from pyspark.sql import SparkSession #import library\n",
    "from pyspark.sql.functions import avg, col, desc"
   ]
  },
  {
   "cell_type": "code",
   "execution_count": 2,
   "id": "e4203e40",
   "metadata": {},
   "outputs": [
    {
     "name": "stderr",
     "output_type": "stream",
     "text": [
      "WARNING: Using incubator modules: jdk.incubator.vector\n",
      "Using Spark's default log4j profile: org/apache/spark/log4j2-defaults.properties\n",
      "25/07/19 17:51:33 WARN Utils: Your hostname, DESKTOP-H7B5I93, resolves to a loopback address: 127.0.1.1; using 10.255.255.254 instead (on interface lo)\n",
      "25/07/19 17:51:33 WARN Utils: Set SPARK_LOCAL_IP if you need to bind to another address\n",
      "Using Spark's default log4j profile: org/apache/spark/log4j2-defaults.properties\n",
      "Setting default log level to \"WARN\".\n",
      "To adjust logging level use sc.setLogLevel(newLevel). For SparkR, use setLogLevel(newLevel).\n",
      "25/07/19 17:51:34 WARN NativeCodeLoader: Unable to load native-hadoop library for your platform... using builtin-java classes where applicable\n"
     ]
    }
   ],
   "source": [
    "spark = SparkSession.builder\\\n",
    "    .appName(\"Student Scores Project\")\\\n",
    "    .getOrCreate()"
   ]
  },
  {
   "cell_type": "code",
   "execution_count": 3,
   "id": "53508ed9",
   "metadata": {},
   "outputs": [
    {
     "name": "stderr",
     "output_type": "stream",
     "text": [
      "                                                                                \r"
     ]
    }
   ],
   "source": [
    "df = spark.read.csv(\"students.csv\", header=True, inferSchema=True) #loading csv"
   ]
  },
  {
   "cell_type": "code",
   "execution_count": 5,
   "id": "643a1966",
   "metadata": {},
   "outputs": [],
   "source": [
    "df_clean = df.dropna(subset=[\"Country\"])"
   ]
  },
  {
   "cell_type": "code",
   "execution_count": 6,
   "id": "de188c88",
   "metadata": {},
   "outputs": [],
   "source": [
    "avg_maths = df_clean.select(avg(\"Math\")).first()[0]\n",
    "avg_english = df_clean.select(avg(\"English\")).first()[0]"
   ]
  },
  {
   "cell_type": "code",
   "execution_count": 7,
   "id": "6c3dfc1f",
   "metadata": {},
   "outputs": [],
   "source": [
    "df_filled= df_clean.fillna({\n",
    "    \"Math\": avg_maths,\n",
    "    \"English\": avg_english\n",
    "})"
   ]
  },
  {
   "cell_type": "code",
   "execution_count": 8,
   "id": "0c23b502",
   "metadata": {},
   "outputs": [
    {
     "name": "stdout",
     "output_type": "stream",
     "text": [
      "DataFrame[Name: string, Math: double, English: double, Country: string]\n"
     ]
    }
   ],
   "source": [
    "print (df_filled)"
   ]
  },
  {
   "cell_type": "code",
   "execution_count": 22,
   "id": "cdf653d0",
   "metadata": {},
   "outputs": [
    {
     "name": "stdout",
     "output_type": "stream",
     "text": [
      "+--------+-----+-------+------------+-----+-------+\n",
      "|    Name| Math|English|     Country|Total|Average|\n",
      "+--------+-----+-------+------------+-----+-------+\n",
      "|  Yvette| 85.0|   83.0|       Ghana|168.0|   84.0|\n",
      "|    John| 86.9|   79.0|    Ethiopia|165.9|  82.95|\n",
      "|Patricia| 86.9|   61.0|South Africa|147.9|  73.95|\n",
      "|  Alicia| 86.9|   79.0|South Africa|165.9|  82.95|\n",
      "|    Jill| 86.9|   69.0|       Ghana|155.9|  77.95|\n",
      "|    Fred| 86.9|   60.0|    Ethiopia|146.9|  73.45|\n",
      "|    Alex| 86.9|   97.0|       Ghana|183.9|  91.95|\n",
      "| Christy|100.0|   70.0|     Nigeria|170.0|   85.0|\n",
      "|  Angela| 86.9|   79.0|       Ghana|165.9|  82.95|\n",
      "| Timothy| 75.0|   82.0|South Africa|157.0|   78.5|\n",
      "|  George| 86.9|   92.0|       Ghana|178.9|  89.45|\n",
      "| Brendan| 86.9|   79.0|    Ethiopia|165.9|  82.95|\n",
      "|Nicholas| 88.0|   97.0|    Ethiopia|185.0|   92.5|\n",
      "|    Lisa| 95.0|   79.0|       Ghana|174.0|   87.0|\n",
      "|    Jose| 99.0|   79.0|    Ethiopia|178.0|   89.0|\n",
      "|  Kelsey| 86.9|   97.0|       Ghana|183.9|  91.95|\n",
      "| Douglas| 52.0|   72.0|       Kenya|124.0|   62.0|\n",
      "| Abigail| 86.9|   89.0|    Ethiopia|175.9|  87.95|\n",
      "| Michael| 89.0|   79.0|South Africa|168.0|   84.0|\n",
      "|    Kurt| 86.9|   58.0|     Nigeria|144.9|  72.45|\n",
      "+--------+-----+-------+------------+-----+-------+\n",
      "only showing top 20 rows\n"
     ]
    }
   ],
   "source": [
    "df_final = df_filled.withColumn(\"Total\", col(\"Math\") + col(\"English\")) \\\n",
    "                    .withColumn(\"Average\", (col(\"Math\") + col(\"English\")) / 2)\n",
    "df_final.show()"
   ]
  },
  {
   "cell_type": "code",
   "execution_count": 23,
   "id": "e6646f5c",
   "metadata": {},
   "outputs": [
    {
     "name": "stdout",
     "output_type": "stream",
     "text": [
      "+------------+-----------------+\n",
      "|     Country|     avg(Average)|\n",
      "+------------+-----------------+\n",
      "|       Ghana|         86.65625|\n",
      "|     Nigeria|           78.725|\n",
      "|    Ethiopia|84.53571428571429|\n",
      "|       Kenya|             73.0|\n",
      "|South Africa|            79.85|\n",
      "+------------+-----------------+\n",
      "\n"
     ]
    }
   ],
   "source": [
    "df_avg_country = df_final.groupBy(\"Country\").avg(\"Average\")\n",
    "df_avg_country.show()"
   ]
  },
  {
   "cell_type": "code",
   "execution_count": 19,
   "id": "42c60980",
   "metadata": {},
   "outputs": [
    {
     "name": "stdout",
     "output_type": "stream",
     "text": [
      "+--------+----+-------+--------+-----+-------+\n",
      "|    Name|Math|English| Country|Total|Average|\n",
      "+--------+----+-------+--------+-----+-------+\n",
      "|Nicholas|88.0|   97.0|Ethiopia|185.0|   92.5|\n",
      "|    Alex|86.9|   97.0|   Ghana|183.9|  91.95|\n",
      "|  Kelsey|86.9|   97.0|   Ghana|183.9|  91.95|\n",
      "+--------+----+-------+--------+-----+-------+\n",
      "\n"
     ]
    }
   ],
   "source": [
    "df_top_students = df_final.orderBy(desc(\"Total\")).limit(3)\n",
    "df_top_students.show()"
   ]
  },
  {
   "cell_type": "code",
   "execution_count": 20,
   "id": "4803d6ea",
   "metadata": {},
   "outputs": [],
   "source": [
    "df_final.write.mode(\"overwrite\").csv(\"output/cleaned_students\", header=True)"
   ]
  }
 ],
 "metadata": {
  "kernelspec": {
   "display_name": "venv",
   "language": "python",
   "name": "python3"
  },
  "language_info": {
   "codemirror_mode": {
    "name": "ipython",
    "version": 3
   },
   "file_extension": ".py",
   "mimetype": "text/x-python",
   "name": "python",
   "nbconvert_exporter": "python",
   "pygments_lexer": "ipython3",
   "version": "3.12.3"
  }
 },
 "nbformat": 4,
 "nbformat_minor": 5
}
